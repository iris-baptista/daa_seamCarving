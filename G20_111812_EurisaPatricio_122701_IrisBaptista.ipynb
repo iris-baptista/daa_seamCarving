{
  "nbformat": 4,
  "nbformat_minor": 0,
  "metadata": {
    "colab": {
      "provenance": [],
      "collapsed_sections": [
        "7MqXMA-7cLQJ",
        "wFqtzEDScl1r",
        "2Toqc1R0cx4p",
        "UaEJFjtrc0LO",
        "ntHKLgUEc-Qy"
      ],
      "include_colab_link": true
    },
    "kernelspec": {
      "name": "python3",
      "display_name": "Python 3"
    },
    "language_info": {
      "name": "python"
    }
  },
  "cells": [
    {
      "cell_type": "markdown",
      "metadata": {
        "id": "view-in-github",
        "colab_type": "text"
      },
      "source": [
        "<a href=\"https://colab.research.google.com/github/iris-baptista/daa_seamCarving/blob/main/G20_111812_EurisaPatricio_122701_IrisBaptista.ipynb\" target=\"_parent\"><img src=\"https://colab.research.google.com/assets/colab-badge.svg\" alt=\"Open In Colab\"/></a>"
      ]
    },
    {
      "cell_type": "markdown",
      "source": [
        "#Minitrabalho DAA - \"*Seam Carving*\"\n",
        "# Ano Letivo 2024/2025"
      ],
      "metadata": {
        "id": "L2QNiQ0rb6fa"
      }
    },
    {
      "cell_type": "markdown",
      "source": [
        "## 1. Bibliotecas Importadas"
      ],
      "metadata": {
        "id": "7MqXMA-7cLQJ"
      }
    },
    {
      "cell_type": "code",
      "source": [
        "import matplotlib.pyplot as plt\n",
        "import matplotlib.image as mpimg\n",
        "import numpy as np\n",
        "from PIL import Image"
      ],
      "metadata": {
        "id": "LJ6Lk6qob9cS"
      },
      "execution_count": null,
      "outputs": []
    },
    {
      "cell_type": "markdown",
      "source": [
        "## 2. Representação de Dados"
      ],
      "metadata": {
        "id": "9t8jStQycUvd"
      }
    },
    {
      "cell_type": "markdown",
      "source": [
        "### 2.1 Como está a representar a energia dos pixels no seu grafo? Qual foi o critério para esta escolha? Que tipo de grafo representa o problema em questão?"
      ],
      "metadata": {
        "id": "qjl-PVkHf-dl"
      }
    },
    {
      "cell_type": "markdown",
      "source": [
        "**Optou-se por representar a energia dos pixels como peso das arestas no grafo. **\n",
        "\n",
        "Os **nós/vértices** estarão associados aos pixels da imagem, e o **peso das arestas** corresponderão à energia de cada pixel **sucessor/destino**, que neste caso será calculada com base na combinação linear do valor da intensidade dos pixels na sua vizinhança inferior, conforme mencionado no enunciado. Contudo, sabe-se que o grafo será um digrafo, pesado e acíclico, ou seja um DAG, O que será útil para encontrarmos o caminho mais curto, ou seja, com menor energia, e, posteriormente, fazermos a sua remoção."
      ],
      "metadata": {
        "id": "-9F1PZzR7cHQ"
      }
    },
    {
      "cell_type": "markdown",
      "source": [
        "### 2.2 Qual é a representação computacional de grafo que está a utilizar? Por exemplo, matriz de adjacência, lista/mapa de adjacências ou uma outra alternativa?"
      ],
      "metadata": {
        "id": "koyMAJ4UgRj2"
      }
    },
    {
      "cell_type": "markdown",
      "source": [
        "A representação computacional do grafo que iremos utilizar é o **Mapa de Adjacências**, um dicionário onde cada pixel terá como valor outro dicionário que apontará para os seus vizinhos inferiores, sendo o respetivo valor de cada vizinho uma aresta (tendo a sua respetiva energia como peso)."
      ],
      "metadata": {
        "id": "XhCPfLW7gXZW"
      }
    },
    {
      "cell_type": "code",
      "source": [],
      "metadata": {
        "id": "vx8NtE_r4_pz"
      },
      "execution_count": null,
      "outputs": []
    },
    {
      "cell_type": "markdown",
      "source": [
        "### 2.3 Identifique as vantagens e desvantagens da sua representação de grafo escolhida e os critérios utilizados para a sua escolha. Por exemplo, a sua escolha facilita a implementação de alguma operação específica? Ou faz com que as operações fiquem mais eficientes (em relação ao tempo e ao espaço em memória)?"
      ],
      "metadata": {
        "id": "ZnoMOshngZFz"
      }
    },
    {
      "cell_type": "markdown",
      "source": [
        "Neste problema, identificamos que o grafo será esparso. Ele terá aproximadamente W × H vértices e, em média, m ≈ 3WH arestas, pois cada vértice pode se conectar a no máximo 3 vizinhos inferiores.\n",
        "Assim, a densidade do grafo será:\n",
        "\n",
        "                             m / n² ≈ 3 / (W × H)\n",
        "\n",
        "Como este valor é muito baixo e m « n², podemos concluir que é  mesmo um grafo esparso.\n",
        "Sendo assim vantajoso usar um mapa de adjacências.\n",
        "\n",
        "\n",
        "**Vantagens:**\n",
        "- Melhor uso da memória (O(n + m)).\n",
        "- Verificação e inserção de arestas em tempo O(1).\n",
        "- Permite associar informações (como energia) diretamente às arestas.\n",
        "\n",
        "**Desvantagens:**\n",
        "- Menos eficiente em grafos densos (o que não é o caso).\n"
      ],
      "metadata": {
        "id": "iv9_V1QHgdv4"
      }
    },
    {
      "cell_type": "markdown",
      "source": [
        "### 2.4 Se optou por utilizar as classes Graph/Digraph fornecidas na Semana 6 para a sua solução, identifique também as possíveis modificações que teve de realizar nas classes."
      ],
      "metadata": {
        "id": "eWzs6-aYgeHj"
      }
    },
    {
      "cell_type": "markdown",
      "source": [
        "*Responder*..."
      ],
      "metadata": {
        "id": "00f92xnrgkii"
      }
    },
    {
      "cell_type": "markdown",
      "source": [],
      "metadata": {
        "id": "3iaqomZbPO3d"
      }
    },
    {
      "cell_type": "markdown",
      "source": [
        "## 3. API Seam Carving"
      ],
      "metadata": {
        "id": "aiiOnXnycba_"
      }
    },
    {
      "cell_type": "markdown",
      "source": [
        "### 3.1 Estrutura de Dados"
      ],
      "metadata": {
        "id": "Wq0wSaWZdpUR"
      }
    },
    {
      "cell_type": "code",
      "source": [
        "\n",
        "class Vertex:\n",
        "    def __init__(self, vertex_id):\n",
        "        self._vertex_id = vertex_id\n",
        "\n",
        "    def __hash__(self):\n",
        "        return hash(self._vertex_id)\n",
        "\n",
        "    def __str__(self):\n",
        "        return str(self._vertex_id)\n",
        "\n",
        "    def vertex_id(self):\n",
        "        return self._vertex_id\n",
        "\n",
        "class Edge:\n",
        "    def __init__(self, u, v, weight=0):\n",
        "        self._vertex_1 = u\n",
        "        self._vertex_2 = v\n",
        "        self._weight = weight\n",
        "\n",
        "    def __hash__(self):\n",
        "        # Função que mapeia a aresta a uma posição no dicionário (hash map)\n",
        "        return hash( (self._vertex_1, self._vertex_2) )\n",
        "\n",
        "    def __eq__(self, other):\n",
        "        # define igualdade de duas arestas (deve ser consistente com a função hash)\n",
        "        return self._vertex_1 == other._vertex_1 and self._vertex_2 == other._vertex_2\n",
        "\n",
        "    def endpoints(self):\n",
        "        return (self._vertex_1, self._vertex_2)\n",
        "\n",
        "    def cost(self):\n",
        "        return self._weight\n",
        "\n",
        "class Graph:\n",
        "\n",
        "    def __init__(self):\n",
        "        self._adjancencies = {}\n",
        "        self._vertices = {}\n",
        "        self._n = 0\n",
        "        self._m = 0\n",
        "\n",
        "    def insert_vertex(self, vertex_id):\n",
        "        '''Insere um novo vértice com o id vertex_id.'''\n",
        "        if not self.has_vertex(vertex_id):\n",
        "            vertex = Vertex(vertex_id)          # instancia um objeto do tipo Vertex\n",
        "            self._vertices[vertex_id] = vertex  # insere o novo vértice no dicionário de vertices\n",
        "            self._adjancencies[vertex] = {}     # inicializa o mapa de adjacências deste vértice a vazio\n",
        "            self._n +=1                         # mais um vértice no grafo\n",
        "\n",
        "    def insert_edge(self, u_id, v_id, weight=0):\n",
        "        ''' Cria e insere uma nova aresta entre u_id e v_id com peso weight.\n",
        "            Se a aresta já existe no grafo, atualiza-se o seu peso.\n",
        "            Também insere os vértices u_id e v_id, caso não existam.'''\n",
        "        if not self.has_vertex(u_id):\n",
        "            self.insert_vertex(u_id) # insere novo vertex e atualiza n\n",
        "        if not self.has_vertex(v_id):\n",
        "            self.insert_vertex(v_id) # insere novo vertex e atualiza n\n",
        "        if not self.has_edge(u_id, v_id):\n",
        "            self._m +=1           # atualiza m apenas se a aresta ainda não existir no grafo\n",
        "        else:\n",
        "            print(f\"Existing edge {u_id} and {v_id}. Will only update weight\")\n",
        "        vertex_u = self._vertices[u_id]  # acede ao objeto Vertex associado a u_id\n",
        "        vertex_v = self._vertices[v_id]  # acede ao objeto Vertex associado a v_id\n",
        "        e = Edge(vertex_u, vertex_v, weight)\n",
        "        self._adjancencies[vertex_u][vertex_v] = e  # coloca v nas adjacências de u\n",
        "   #     self._adjancencies[vertex_v][vertex_u] = e  # e u nas adjacências de v (para facilitar a procura de todas as arestas incidentes num vértice)\n",
        "\n",
        "    def get_vertex(self, vertex_id):\n",
        "        return self._vertices[vertex_id]\n",
        "\n",
        "    def get_edge(self, u_id, v_id):\n",
        "        ''' Devolve o objeto aresta (Edge) que liga u_id a v_id.\n",
        "            Devolve None se não forem adjacentes ou se (um d)os vértices não existirem.'''\n",
        "        if not self.has_edge(u_id, v_id):\n",
        "            return None\n",
        "        else:\n",
        "            vertex_u = self._vertices[u_id]\n",
        "            vertex_v = self._vertices[v_id]\n",
        "            return self._adjancencies[vertex_u][vertex_v]\n",
        "\n",
        "    def vertices(self):\n",
        "        '''Devolve um iterável sobre todos os vértices do Grafo (tipo Vertex)'''\n",
        "        return self._vertices.values()\n",
        "\n",
        "    def edges(self):\n",
        "        '''Devolve um iterável sobre todas as arestas do Grafo (sem arestas duplicadas).'''\n",
        "        seen = {}      # evita a repetição de arestas no grafo não orientado\n",
        "        for adj_map in self._adjancencies.values():\n",
        "            for edge in adj_map.values():\n",
        "                if edge not in seen:\n",
        "                    yield edge\n",
        "                seen[edge] = True\n",
        "\n",
        "    def incident_edges(self, vertex_id):\n",
        "        '''Devolve um iterável (gerador) com todas as arestas de um vértice com id vertex_id.'''\n",
        "        vertex = self._vertices[vertex_id]\n",
        "        for edge in self._adjancencies[vertex].values(): # para todas as arestas incidentes em v:\n",
        "            yield edge\n",
        "\n",
        "    def has_neighbors(self, vertex_id):\n",
        "        '''Verifica se o vértice de id vertex_id tem vértices adjacentes (vizinhos).'''\n",
        "        if not self.has_vertex(vertex_id):\n",
        "            return False\n",
        "        return self.degree(vertex_id) == 0\n",
        "\n",
        "    def remove_vertex(self, vertex_id):\n",
        "        '''Remove o vértice com id vertex_id. Se o vértice não existir, não faz nada.'''\n",
        "        # Passo 1: remover todas as arestas do vértice dado\n",
        "        # Passo 2: remover todas as arestas incidentes em vertex_id dos mapas de outros vertices\n",
        "        # Passo 3: remover o vértice com id vertex_id do grafo\n",
        "        # Passo 4: decrementa contador de vértices\n",
        "        if self.has_vertex(vertex_id):\n",
        "            lst_copied = list(self.incident_edges(vertex_id)) # copia para a lista para evitar erros de concorrência (remove enquanto itera na lista)\n",
        "            for edge in lst_copied:\n",
        "                x, y = edge.endpoints()\n",
        "                self.remove_edge(x.vertex_id(),y.vertex_id())  # (Passos 1 e 2)\n",
        "            del self._adjancencies[self._vertices[vertex_id]]  # (Passo 3 - remove do dicionário de adjacências)\n",
        "            del self._vertices[vertex_id]                      # (Passo 3 - remove do dicionário de vértices)\n",
        "            self._n -=1                                        # (Passo 4 - decrementa contador)\n",
        "\n",
        "    def remove_edge(self, u_id, v_id):\n",
        "        '''Remove a aresta entre u_id e v_id. Se a aresta não existir, não faz nada.'''\n",
        "        if  self.has_edge(u_id, v_id):\n",
        "            vertex_u = self._vertices[u_id]\n",
        "            vertex_v = self._vertices[v_id]\n",
        "            del self._adjancencies[vertex_u][vertex_v]\n",
        "            if vertex_u != vertex_v:  # laços são removidos apenas uma vez\n",
        "                del self._adjancencies[vertex_v][vertex_u]\n",
        "            self._m -=1\n",
        "\n",
        "class DiGraph(Graph):\n",
        "    def __init__(self):\n",
        "        '''Construtor: Cria um grafo vazio (dicionário de _adjancencies).'''\n",
        "        super().__init__()\n",
        "        self._in_adjancencies = {}     # dicionário com chave vértice e valor mapa de adjacências das arestas de entrada\n",
        "\n",
        "    def is_directed(self):\n",
        "        '''A classe DiGraph representa um grafo orientado.'''\n",
        "        return True\n",
        "\n",
        "    def __repr__(self):\n",
        "        '''Devolve a representação completa do grafo em string (debug).'''\n",
        "        if self._n == 0:\n",
        "            ret = \"DAA-DiGraph out-Representation: <empty>\\n\"\n",
        "            ret += \"DAA-DiGraph in-Representation: <empty>\\n\"\n",
        "        else:\n",
        "            ret = \"DAA-DiGraph out-Representation:\\n\"\n",
        "            for vertex in self._adjancencies.keys():\n",
        "                ret += str(vertex)\n",
        "                ret += \" out-deg \" + str(self.out_degree(vertex.vertex_id())) + \":\\t\"\n",
        "                for edge in self.successors(vertex.vertex_id()):\n",
        "                    ret += str(edge) + \"; \"\n",
        "                ret += \"\\n\"\n",
        "            ret += \"DAA-DiGraph in-Representation:\\n\"\n",
        "            for vertex in self._in_adjancencies.keys():\n",
        "                ret += str(vertex)\n",
        "                ret += \" in-deg \" + str(self.in_degree(vertex.vertex_id())) + \":\\t\"\n",
        "                for edge in self.predecessors(vertex.vertex_id()):\n",
        "                    ret += str(edge) + \"; \"\n",
        "                ret += \"\\n\"\n",
        "        return ret\n",
        "\n",
        "    def __str__(self):\n",
        "        '''Devolve a representação do grafo em string.'''\n",
        "        if self._n == 0:\n",
        "            ret = \"DAA-DiGraph: <empty>\\n\"\n",
        "        else:\n",
        "            ret = \"DAA-Graph:\\n\"\n",
        "            for vertex in self._adjancencies.keys():\n",
        "                #ret += \"vertex-\"\n",
        "                ret += str(vertex) + \": \"\n",
        "                for edge in self.successors(vertex.vertex_id()):\n",
        "                    ret += str(edge) + \"; \"\n",
        "                ret += \"\\n\"\n",
        "        return ret\n",
        "\n",
        "    def is_successor(self, u_id, v_id):\n",
        "        \"\"\"Verifica se o nó u é sucessor do vértice v no grafo.\"\"\"\n",
        "        return super().has_edge(v_id, u_id)\n",
        "\n",
        "    def is_predecessor(self, u_id, v_id):\n",
        "        \"\"\" Verifica se o vértice u é antecessor do vértice v no grafo.\n",
        "            Corresponde ao método super().has_edge(u,v). \"\"\"\n",
        "        return super().has_edge(u_id, v_id)\n",
        "\n",
        "    def insert_vertex(self, vertex_id):\n",
        "        '''Insere um novo nó com id vertex_id.'''\n",
        "        super().insert_vertex(vertex_id)   # inicializa o mapa dos arcos de saída (_adjancencies)\n",
        "        vertex = self._vertices[vertex_id]\n",
        "        self._in_adjancencies[vertex] = {}  # inicializa o mapa dos arcos de entrada (_in_adjancencies)\n",
        "\n",
        "    def insert_edge(self, u_id, v_id, weight=0):\n",
        "        ''' Cria e insere um novo arco entre u_id e v_id com peso weight.\n",
        "            Se o arco já existe no grafo, atualiza-se o seu peso.\n",
        "            Também insere os nós u_id e v_id, caso não existam.'''\n",
        "        if not self.has_vertex(u_id):\n",
        "            self.insert_vertex(u_id) # insere novo vertex e atualiza n\n",
        "        if not self.has_vertex(v_id):\n",
        "            self.insert_vertex(v_id) # insere novo vertex e atualiza n\n",
        "        if not self.has_edge(u_id, v_id):\n",
        "            self._m +=1           # atualiza m apenas se a aresta ainda não existir no grafo\n",
        "        else:\n",
        "            print(f\"Existing edge {u_id} and {v_id}. Will only update weight\")\n",
        "        vertex_u = self._vertices[u_id]\n",
        "        vertex_v = self._vertices[v_id]\n",
        "        e = Edge(vertex_u, vertex_v, weight)\n",
        "        self._adjancencies[vertex_u][vertex_v] = e  # coloca v nas adjacências de u\n",
        "    #    self._in_adjancencies[vertex_v][vertex_u] = e  # e u nas adjacências de v (para facilitar a procura de todas as arestas incidentes num vértice)\n",
        "\n",
        "    def out_degree(self, vertex_id):\n",
        "        '''Quantidade de arcos que saem do nó v.\n",
        "        '''\n",
        "        return len(self._adjancencies[self._vertices[vertex_id]]) # Verifica o tamanho do mapa de saída de v\n",
        "\n",
        "    def in_degree(self, vertex_id):\n",
        "        '''Quantidade de arcos que entram no nó v.\n",
        "        '''\n",
        "        return len(self._in_adjancencies[self._vertices[vertex_id]]) # Verifica o tamanho do mapa de entrade de v\n",
        "\n",
        "    def edges(self):\n",
        "        '''Devolve um iterável sobre todos os arcos do Grafo.'''\n",
        "        for adj_map in self._adjancencies.values():\n",
        "            for edge in adj_map.values():\n",
        "                yield edge\n",
        "\n",
        "    def successors(self, vertex_id): # igual ao super().incident_edges(v)\n",
        "        '''Devolve um iterável com todos os arcos que saem de v.'''\n",
        "        return self.incident_edges(vertex_id)\n",
        "        '''\n",
        "        vertex = self._vertices[vertex_id]\n",
        "        for edge in self._adjancencies[vertex].values(): # para todas os arcos que saem do vértice\n",
        "            yield edge\n",
        "            '''\n",
        "\n",
        "    def predecessors(self, vertex_id):\n",
        "        '''Devolve um iterável com todos os arcos que entram em v.'''\n",
        "        vertex = self._vertices[vertex_id]\n",
        "        for edge in self._in_adjancencies[vertex].values(): # para todas os arcos que entram no vértice\n",
        "            yield edge\n",
        "\n",
        "    def remove_edge(self, u_id, v_id):\n",
        "        '''Remove o arco u_id -> v_id. Se o arco não existir, não faz nada.'''\n",
        "        if  self.has_edge(u_id, v_id):\n",
        "            vertex_u = self._vertices[u_id]\n",
        "            vertex_v = self._vertices[v_id]\n",
        "            del self._adjancencies[vertex_u][vertex_v]\n",
        "            del self._in_adjancencies[vertex_v][vertex_u]\n",
        "            self._m -=1\n",
        "\n",
        "    def remove_vertex(self, vertex_id):\n",
        "        '''Remove o nó com id vertex_id. Se o nó não existir, não faz nada.'''\n",
        "        # Passo 1: remover todos os arcos que saem do vértice dado\n",
        "        # Passo 2: remover todos os arcos que entram no vértice dado\n",
        "        # Passo 3: remover o vértice do grafo\n",
        "        if self.has_vertex(vertex_id):\n",
        "            lst_out = list(self.successors(vertex_id)) # copia para a lista para evitar erros de concorrência\n",
        "            for edge in lst_out:\n",
        "                x, y = edge.endpoints()\n",
        "                self.remove_edge(x.vertex_id(),y.vertex_id())       # (Passos 1)\n",
        "            lst_in = list(self.predecessors(vertex_id)) # copia para a lista para evitar erros de concorrência\n",
        "            for edge in lst_in:\n",
        "                x, y = edge.endpoints()\n",
        "                self.remove_edge(x.vertex_id(),y.vertex_id())       # (Passos 2)\n",
        "            del self._adjancencies[self._vertices[vertex_id]]     # (Passo 3 - remove do dicionário de saídas)\n",
        "            del self._in_adjancencies[self._vertices[vertex_id]]  # (Passo 3 - remove do dicionário de entradas)\n",
        "            del self._vertices[vertex_id]                         # (Passo 3 - remove do dicionário de vértices)\n",
        "            self._n -=1\n"
      ],
      "metadata": {
        "id": "H8mMAM7wclZY"
      },
      "execution_count": null,
      "outputs": []
    },
    {
      "cell_type": "code",
      "source": [
        "import numpy as np\n",
        "from collections import defaultdict\n",
        "\n",
        "class SeamCarving:\n",
        "    def __init__(self, image):\n",
        "        self.image = image.astype(np.int32)\n",
        "        self.height, self.width = self.image.shape[:2]\n",
        "        self.energy_map = self._calculate_energy()\n",
        "\n",
        "    def _calculate_energy(self):\n",
        "        return\n",
        "\n",
        "    def find_vertical_steam(self):\n",
        "        g = DiGraph()\n",
        "        h, w = self.height, self.width\n",
        "        energy = self.energy_map\n",
        "\n",
        "        # Criar vértices\n",
        "        for y in range(h):\n",
        "            for x in range(w):\n",
        "                g.insert_vertex((x, y))\n",
        "\n",
        "        # Criar arestas de cima para baixo\n",
        "        for y in range(h - 1):\n",
        "            for x in range(w):\n",
        "                u = (x, y)\n",
        "                for dx in [-1, 0, 1]:\n",
        "                    nx = x + dx\n",
        "                    ny = y + 1\n",
        "                    if 0 <= nx < w:\n",
        "                        v = (nx, ny)\n",
        "                        g.insert_edge(u, v, weight=energy[ny, nx])\n",
        "\n",
        "        # Fonte e destino virtuais\n",
        "        source = \"SOURCE\"\n",
        "        target = \"TARGET\"\n",
        "        g.insert_vertex(source)\n",
        "        g.insert_vertex(target)\n",
        "\n",
        "        for x in range(w):\n",
        "            g.insert_edge(source, (x, 0), weight=energy[0, x])\n",
        "            g.insert_edge((x, h - 1), target, weight=0)\n",
        "\n",
        "        # Bellman-Ford\n",
        "        dist = defaultdict(lambda: float('inf'))\n",
        "        pred = {}\n",
        "        dist[g.get_vertex(source)] = 0\n",
        "\n",
        "        for _ in range(len(g._vertices) - 1):\n",
        "            for u in g._adjancencies:\n",
        "                for v in g._adjancencies[u]:\n",
        "                    e = g._adjancencies[u][v]\n",
        "                    cost = e.cost()\n",
        "                    if dist[u] + cost < dist[v]:\n",
        "                        dist[v] = dist[u] + cost\n",
        "                        pred[v] = u\n",
        "\n",
        "        # Reconstruir o caminho da costura\n",
        "        path = []\n",
        "        v = g.get_vertex(target)\n",
        "        while v != g.get_vertex(source):\n",
        "            v_id = v.vertex_id()\n",
        "            if v_id not in [source, target]:\n",
        "                path.append(v_id)\n",
        "            v = pred[v]\n",
        "\n",
        "        return list(reversed(path))\n",
        "\n",
        "    def remove_vertical_steam(self, steam):\n",
        "        h, w = self.height, self.width\n",
        "        new_image = np.zeros((h, w - 1, 3), dtype=self.image.dtype)\n",
        "\n",
        "        for y in range(h):\n",
        "            x = steam[y][0]  # steam é uma lista de (x, y)\n",
        "            new_image[y, :, :] = np.delete(self.image[y, :, :], x, axis=0)\n",
        "\n",
        "        self.image = new_image\n",
        "        self.height, self.width = self.image.shape[:2]\n",
        "        self.energy_map = self._calculate_energy()\n",
        "\n",
        "    def picture(self):\n",
        "        return\n"
      ],
      "metadata": {
        "id": "SuD0Xwulqp2I"
      },
      "execution_count": null,
      "outputs": []
    },
    {
      "cell_type": "markdown",
      "source": [
        "### 3.2 Calcular a energia da imagem"
      ],
      "metadata": {
        "id": "e4Dtm4TMdsYJ"
      }
    },
    {
      "cell_type": "markdown",
      "source": [
        "3.2.1 Implemente e teste a função auxiliar _calculate_energy() que irá calcular a energia da imagem atual. A função deve devolver o mapa da energia da imagem como um ndarray (numpy array)."
      ],
      "metadata": {
        "id": "O02m8oXGdxNb"
      }
    },
    {
      "cell_type": "code",
      "source": [
        "def _calculate_energy(self):\n",
        "    h, w = self.height, self.width\n",
        "    energy_map = np.zeros((h, w), dtype=np.float32)\n",
        "    for y in range(h):\n",
        "        for x in range(w):\n",
        "            if x == 0 or x == w - 1 or y == 0:\n",
        "                energy_map[y, x] = 0\n",
        "                continue\n",
        "            dx = abs(self.image[y, x + 1, 0] - self.image[y, x - 1, 0])\n",
        "            dy = abs(self.image[y + 1, x, 0] - self.image[y - 1, x, 0])\n",
        "            energy_map[y, x] = dx + dy\n",
        "    return energy_map"
      ],
      "metadata": {
        "id": "mW75n8ENd5le"
      },
      "execution_count": null,
      "outputs": []
    },
    {
      "cell_type": "markdown",
      "source": [
        "3.2.2 Apresente uma análise da complexidade desta função em relação ao tempo e ao espaço extra de memória utilizados (em função da dimensão da imagem)."
      ],
      "metadata": {
        "id": "dT_8O2lNd7v9"
      }
    },
    {
      "cell_type": "markdown",
      "source": [
        "Responder..."
      ],
      "metadata": {
        "id": "q6qSvOTVRnf0"
      }
    },
    {
      "cell_type": "markdown",
      "source": [
        "### 3.3 Encontrar a costura de menor energia (steam)."
      ],
      "metadata": {
        "id": "muzaVcNReDaF"
      }
    },
    {
      "cell_type": "markdown",
      "source": [
        "3.3.1 Descreva os passos e as modificações realizadas no grafo e/ou no algoritmo para reduzir o problema do seam carving para o problema do caminho mais curto num grafo (shortest path). Indique qual algoritmo shortest path que escolheu implementar e o motivo da sua escolha."
      ],
      "metadata": {
        "id": "bvKF5P5HeLn6"
      }
    },
    {
      "cell_type": "markdown",
      "source": [
        "Resposta..."
      ],
      "metadata": {
        "id": "QTkCsA6teQl0"
      }
    },
    {
      "cell_type": "markdown",
      "source": [
        "3.3.2 Implemente e teste o método find_vertical_steam()que deverá encontrar o caminho de menor energia."
      ],
      "metadata": {
        "id": "jJ5sgMP5eQ_D"
      }
    },
    {
      "cell_type": "code",
      "source": [
        "steam = sc.find_vertical_steam()\n",
        "print(\"Pixels da costura de menor energia:\")\n",
        "print(steam[:5], \"...\")  # Mostrar primeiros 5 pontos\n",
        "print(\"Tamanho da costura:\", len(steam))\n",
        "\n",
        "# Visualizar costura sobre a imagem original\n",
        "img_with_steam = sc.image.copy()\n",
        "for x, y in steam:\n",
        "    img_with_steam[y, x] = [255, 0, 0]  # marca a seam a vermelho\n",
        "\n",
        "plt.imshow(img_with_steam.astype(np.uint8))\n",
        "plt.title(\"Imagem com costura marcada\")\n",
        "plt.show()"
      ],
      "metadata": {
        "id": "Eiy8BlaJefKv"
      },
      "execution_count": null,
      "outputs": []
    },
    {
      "cell_type": "markdown",
      "source": [
        "3.3.3 Apresente uma análise completa da complexidade do seu algoritmo em função da dimensão da imagem, e compare-a com a complexidade de outras versões do algoritmo shortest path."
      ],
      "metadata": {
        "id": "Ef9YZ2hDeeUr"
      }
    },
    {
      "cell_type": "code",
      "source": [],
      "metadata": {
        "id": "t_S5hnfLeliQ"
      },
      "execution_count": null,
      "outputs": []
    },
    {
      "cell_type": "markdown",
      "source": [
        "3.3.4 Analise e compare a complexidade do seu algoritmo baseado em grafos com uma solução que utiliza a estratégia de programação dinâmica. Na sua pesquisa bibliográfica e análise, deve usar fontes credíveis, tais como, artigos científicos, manuais técnicos ou recursos webgráficos devidamente acreditados."
      ],
      "metadata": {
        "id": "pdUTbW1qelAx"
      }
    },
    {
      "cell_type": "code",
      "source": [],
      "metadata": {
        "id": "60PMt8b5erOj"
      },
      "execution_count": null,
      "outputs": []
    },
    {
      "cell_type": "markdown",
      "source": [
        "### 3.4 Remover uma costura (steam) da imagem."
      ],
      "metadata": {
        "id": "kn19hEagerri"
      }
    },
    {
      "cell_type": "markdown",
      "source": [
        "3.4.1 Implemente e teste o método remove_vertical_steam(steam) que recebe uma coleção com a sequência de pixels da costura, steam, e remove-os da imagem atual."
      ],
      "metadata": {
        "id": "6ALnT2JBe0MB"
      }
    },
    {
      "cell_type": "code",
      "source": [
        "original_shape = sc.image.shape\n",
        "print(\"Antes da remoção:\", original_shape)\n",
        "\n",
        "sc.remove_vertical_steam(steam)\n",
        "\n",
        "new_shape = sc.image.shape\n",
        "print(\"Após remoção:\", new_shape)\n",
        "\n",
        "plt.imshow(sc.picture())\n",
        "plt.title(\"Imagem após remover a costura\")\n",
        "plt.show()\n"
      ],
      "metadata": {
        "id": "8xzKmjfYe2Az"
      },
      "execution_count": null,
      "outputs": []
    },
    {
      "cell_type": "markdown",
      "source": [
        "3.4.2 Apresente uma análise da complexidade desta operação em função da dimensão da imagem."
      ],
      "metadata": {
        "id": "0l2fObIDe4Tu"
      }
    },
    {
      "cell_type": "code",
      "source": [],
      "metadata": {
        "id": "89XeDn7se6Ve"
      },
      "execution_count": null,
      "outputs": []
    },
    {
      "cell_type": "markdown",
      "source": [
        "## 4. Validação"
      ],
      "metadata": {
        "id": "wFqtzEDScl1r"
      }
    },
    {
      "cell_type": "markdown",
      "source": [
        "### 4.1 Crie uma função que receba uma imagem e um fator de escala como entrada, e que devolva a imagem redimensionada utilizando a API SeamCarving. A função deve ser capaz de lidar com o redimensionamento da largura e da altura de uma imagem, consoante a escolha do utilizador."
      ],
      "metadata": {
        "id": "NUHE7GKGfA6w"
      }
    },
    {
      "cell_type": "code",
      "source": [],
      "metadata": {
        "id": "zguf7e-scxpQ"
      },
      "execution_count": null,
      "outputs": []
    },
    {
      "cell_type": "markdown",
      "source": [
        "### 4.2 Reduza a largura da imagem img-broadway_tower.jpg para 70% da sua largura original, utilizando a função implementada. O resultado deve ser apresentado no próprio notebook."
      ],
      "metadata": {
        "id": "zXqBPRN6fU4y"
      }
    },
    {
      "cell_type": "code",
      "source": [],
      "metadata": {
        "id": "QTJLvlFEfW7W"
      },
      "execution_count": null,
      "outputs": []
    },
    {
      "cell_type": "markdown",
      "source": [
        "### 4.3 Reduza a largura da imagem img-brent-cox-unsplash.jpg para 60% da sua altura original, utilizando a função implementada. O resultado deve ser apresentado no próprio notebook."
      ],
      "metadata": {
        "id": "8oltVIrxfcba"
      }
    },
    {
      "cell_type": "code",
      "source": [],
      "metadata": {
        "id": "N29KVbbSferV"
      },
      "execution_count": null,
      "outputs": []
    },
    {
      "cell_type": "markdown",
      "source": [
        "## 5. Questões Éticas"
      ],
      "metadata": {
        "id": "2Toqc1R0cx4p"
      }
    },
    {
      "cell_type": "markdown",
      "source": [
        "### a) Se colaborou com alguém fora do seu grupo, indique aqui os respetivos nomes."
      ],
      "metadata": {
        "id": "UaEJFjtrc0LO"
      }
    },
    {
      "cell_type": "markdown",
      "source": [
        "Não."
      ],
      "metadata": {
        "id": "olvQ6GPQc7Jj"
      }
    },
    {
      "cell_type": "markdown",
      "source": [
        "### b) Deve citar todas as fontes utilizadas fora do material da UC."
      ],
      "metadata": {
        "id": "ntHKLgUEc-Qy"
      }
    },
    {
      "cell_type": "markdown",
      "source": [],
      "metadata": {
        "id": "PPTvNF2ddDFD"
      }
    }
  ]
}