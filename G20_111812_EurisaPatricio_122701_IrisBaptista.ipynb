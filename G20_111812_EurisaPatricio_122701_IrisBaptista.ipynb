{
  "nbformat": 4,
  "nbformat_minor": 0,
  "metadata": {
    "colab": {
      "provenance": [],
      "collapsed_sections": [
        "7MqXMA-7cLQJ",
        "wFqtzEDScl1r",
        "2Toqc1R0cx4p",
        "UaEJFjtrc0LO",
        "ntHKLgUEc-Qy"
      ],
      "include_colab_link": true
    },
    "kernelspec": {
      "name": "python3",
      "display_name": "Python 3"
    },
    "language_info": {
      "name": "python"
    }
  },
  "cells": [
    {
      "cell_type": "markdown",
      "metadata": {
        "id": "view-in-github",
        "colab_type": "text"
      },
      "source": [
        "<a href=\"https://colab.research.google.com/github/iris-baptista/daa_seamCarving/blob/main/G20_111812_EurisaPatricio_122701_IrisBaptista.ipynb\" target=\"_parent\"><img src=\"https://colab.research.google.com/assets/colab-badge.svg\" alt=\"Open In Colab\"/></a>"
      ]
    },
    {
      "cell_type": "markdown",
      "source": [
        "#Minitrabalho DAA - \"*Seam Carving*\"\n",
        "# Ano Letivo 2024/2025"
      ],
      "metadata": {
        "id": "L2QNiQ0rb6fa"
      }
    },
    {
      "cell_type": "markdown",
      "source": [
        "## 1. Bibliotecas Importadas"
      ],
      "metadata": {
        "id": "7MqXMA-7cLQJ"
      }
    },
    {
      "cell_type": "code",
      "source": [
        "import matplotlib.pyplot as plt\n",
        "import matplotlib.image as mpimg\n",
        "import numpy as np"
      ],
      "metadata": {
        "id": "LJ6Lk6qob9cS"
      },
      "execution_count": null,
      "outputs": []
    },
    {
      "cell_type": "markdown",
      "source": [
        "## 2. Representação de Dados"
      ],
      "metadata": {
        "id": "9t8jStQycUvd"
      }
    },
    {
      "cell_type": "markdown",
      "source": [
        "### 2.1 Como está a representar a energia dos pixels no seu grafo? Qual foi o critério para esta escolha? Que tipo de grafo representa o problema em questão?"
      ],
      "metadata": {
        "id": "qjl-PVkHf-dl"
      }
    },
    {
      "cell_type": "markdown",
      "source": [
        "Optou-se por representar a energia dos pixels como peso das arestas no grafo. Os nós/vértices estarão associados aos pixels da imagem utilizada, e as arestas corresponderão à energia do pixel sucessor/destino, calculada com base na combinação linear do valor da intensidade dos pixels na sua vizinhança,conforme mencionado no enunciado, que neste caso, serão os pixels vizinhos no nível inferior. Contudo, sabe-se que o grafo será direconado, sendo assim um digrafo, pesado e acíclico, ou seja um DAG, **Nota** **(depois removo)( o que facilitará a encontrar um caminho mais curto, ou seja, de menos energia para que mais tarde possámos o remover)**"
      ],
      "metadata": {
        "id": "-9F1PZzR7cHQ"
      }
    },
    {
      "cell_type": "markdown",
      "source": [
        "### 2.2 Qual é a representação computacional de grafo que está a utilizar? Por exemplo, matriz de adjacência, lista/mapa de adjacências ou uma outra alternativa?"
      ],
      "metadata": {
        "id": "koyMAJ4UgRj2"
      }
    },
    {
      "cell_type": "markdown",
      "source": [
        "A representação computacional do grafo que iremos utilizar é o **Mapa de Adjacências**, um dicionário onde cada pixel (representado por um objeto Vertex) terá como valor outro dicionário que apontará para os seus vizinhos inferiores, sendo o respetivo valor de cada vizinho será uma aresta (Edge) que contém a sua respetiva energia como peso."
      ],
      "metadata": {
        "id": "XhCPfLW7gXZW"
      }
    },
    {
      "cell_type": "code",
      "source": [],
      "metadata": {
        "id": "vx8NtE_r4_pz"
      },
      "execution_count": null,
      "outputs": []
    },
    {
      "cell_type": "markdown",
      "source": [
        "### 2.3 Identifique as vantagens e desvantagens da sua representação de grafo escolhida e os critérios utilizados para a sua escolha. Por exemplo, a sua escolha facilita a implementação de alguma operação específica? Ou faz com que as operações fiquem mais eficientes (em relação ao tempo e ao espaço em memória)?"
      ],
      "metadata": {
        "id": "ZnoMOshngZFz"
      }
    },
    {
      "cell_type": "markdown",
      "source": [
        "O mapa de adjacências"
      ],
      "metadata": {
        "id": "iv9_V1QHgdv4"
      }
    },
    {
      "cell_type": "markdown",
      "source": [
        "### 2.4 Se optou por utilizar as classes Graph/Digraph fornecidas na Semana 6 para a sua solução, identifique também as possíveis modificações que teve de realizar nas classes."
      ],
      "metadata": {
        "id": "eWzs6-aYgeHj"
      }
    },
    {
      "cell_type": "markdown",
      "source": [
        "Responder..."
      ],
      "metadata": {
        "id": "00f92xnrgkii"
      }
    },
    {
      "cell_type": "markdown",
      "source": [
        "## 3. API Seam Carving"
      ],
      "metadata": {
        "id": "aiiOnXnycba_"
      }
    },
    {
      "cell_type": "markdown",
      "source": [
        "### 3.1 Estrutura de Dados"
      ],
      "metadata": {
        "id": "Wq0wSaWZdpUR"
      }
    },
    {
      "cell_type": "code",
      "source": [
        "class Vertex:\n",
        "    def __init__(self, coord):\n",
        "        self._vertex_id = coord\n",
        "        self._edges = []\n",
        "\n",
        "    def __hash__(self):\n",
        "        return hash(self._vertex_id)\n",
        "\n",
        "    def __eq__(self, other):\n",
        "        return self._vertex_id == other._vertex_id\n",
        "\n",
        "    def vertex_id(self):\n",
        "        return self._vertex_id\n",
        "\n",
        "    def add_edge(self, vertex, weight):\n",
        "        self._edges[vertex] = weight\n",
        "\n",
        "    def get_edges(self):\n",
        "        return self._edges\n",
        "\n",
        "class Edge:\n",
        "    def __init__(self, vertex_1, vertex_2, weight):\n",
        "        self._vertex_1 = vertex_1\n",
        "        self._vertex_2 = vertex_2\n",
        "        self._weight = weight\n",
        "\n",
        "    def cost(self):\n",
        "        return self._weight\n",
        "\n",
        "    def endpoints(self):\n",
        "        return (self._vertex_1, self._vertex_2)\n",
        "\n",
        "    def get_vertex_1(self):\n",
        "        return self._vertex_1\n",
        "\n",
        "    def get_vertex_2(self):\n",
        "        return self._vertex_2\n",
        "\n",
        "\n",
        "class Digraph:\n",
        "    def __init__(self):\n",
        "        super().__init__()\n",
        "        self._in_adjancencies = {}     # dicionário com chave vértice e valor mapa de adjacências das arestas de entrada\n",
        "\n",
        "    def add_edge(self, from_coord, to_coord, weight):\n",
        "        if from_coord not in self._vertices:\n",
        "            self.insert_vertex(from_coord)\n",
        "        if to_coord not in self._vertices:\n",
        "            self.insert_vertex(to_coord)\n",
        "\n",
        "        vertex_u = self._vertices[from_coord]\n",
        "        vertex_v = self._vertices[to_coord]\n",
        "\n",
        "        if not self.has_edge(from_coord, to_coord):\n",
        "            self._m += 1\n",
        "\n",
        "        edge = Edge(vertex_u, vertex_v, weight)\n",
        "        self._adjacencies[vertex_u][vertex_v] = edge\n",
        "        vertex_u.add_edge(edge)\n",
        "\n",
        "    def insert_vertex(self, coord):\n",
        "        if coord not in self._vertices:\n",
        "            vertex = Vertex(coord)\n",
        "            self._vertices[coord] = vertex\n",
        "            self._adjacencies[vertex] = {}\n",
        "            self._n += 1\n",
        "\n",
        "    def has_vertex(self, coord):\n",
        "        return coord in self._vertices\n",
        "\n",
        "    def has_edge(self, u_coord, v_coord):\n",
        "        if not self.has_vertex(u_coord) or not self.has_vertex(v_coord):\n",
        "            return False\n",
        "        vertex_u = self._vertices[u_coord]\n",
        "        vertex_v = self._vertices[v_coord]\n",
        "        return vertex_v in self._adjacencies[vertex_u]\n",
        "\n",
        "    def get_vertex(self, coord):\n",
        "        return self._vertices.get(coord, None)\n",
        "\n"
      ],
      "metadata": {
        "id": "H8mMAM7wclZY"
      },
      "execution_count": null,
      "outputs": []
    },
    {
      "cell_type": "markdown",
      "source": [
        "### 3.2 Calcular a energia da imagem"
      ],
      "metadata": {
        "id": "e4Dtm4TMdsYJ"
      }
    },
    {
      "cell_type": "code",
      "source": [],
      "metadata": {
        "id": "5EBpulsAdw2s"
      },
      "execution_count": null,
      "outputs": []
    },
    {
      "cell_type": "markdown",
      "source": [
        "3.2.1 Implemente e teste a função auxiliar _calculate_energy() que irá calcular a energia da imagem atual. A função deve devolver o mapa da energia da imagem como um ndarray (numpy array)."
      ],
      "metadata": {
        "id": "O02m8oXGdxNb"
      }
    },
    {
      "cell_type": "code",
      "source": [],
      "metadata": {
        "id": "mW75n8ENd5le"
      },
      "execution_count": null,
      "outputs": []
    },
    {
      "cell_type": "markdown",
      "source": [
        "3.2.2 Apresente uma análise da complexidade desta função em relação ao tempo e ao espaço extra de memória utilizados (em função da dimensão da imagem)."
      ],
      "metadata": {
        "id": "dT_8O2lNd7v9"
      }
    },
    {
      "cell_type": "code",
      "source": [],
      "metadata": {
        "id": "UPpnjymqeBOV"
      },
      "execution_count": null,
      "outputs": []
    },
    {
      "cell_type": "markdown",
      "source": [
        "### 3.3 Encontrar a costura de menor energia (steam)."
      ],
      "metadata": {
        "id": "muzaVcNReDaF"
      }
    },
    {
      "cell_type": "code",
      "source": [],
      "metadata": {
        "id": "n4O-UOmQeIN0"
      },
      "execution_count": null,
      "outputs": []
    },
    {
      "cell_type": "markdown",
      "source": [
        "3.3.1 Descreva os passos e as modificações realizadas no grafo e/ou no algoritmo para reduzir o problema do seam carving para o problema do caminho mais curto num grafo (shortest path). Indique qual algoritmo shortest path que escolheu implementar e o motivo da sua escolha."
      ],
      "metadata": {
        "id": "bvKF5P5HeLn6"
      }
    },
    {
      "cell_type": "markdown",
      "source": [
        "Resposta..."
      ],
      "metadata": {
        "id": "QTkCsA6teQl0"
      }
    },
    {
      "cell_type": "markdown",
      "source": [
        "3.3.2 Implemente e teste o método find_vertical_steam()que deverá encontrar o caminho de menor energia."
      ],
      "metadata": {
        "id": "jJ5sgMP5eQ_D"
      }
    },
    {
      "cell_type": "code",
      "source": [],
      "metadata": {
        "id": "Eiy8BlaJefKv"
      },
      "execution_count": null,
      "outputs": []
    },
    {
      "cell_type": "markdown",
      "source": [
        "3.3.3 Apresente uma análise completa da complexidade do seu algoritmo em função da dimensão da imagem, e compare-a com a complexidade de outras versões do algoritmo shortest path."
      ],
      "metadata": {
        "id": "Ef9YZ2hDeeUr"
      }
    },
    {
      "cell_type": "code",
      "source": [],
      "metadata": {
        "id": "t_S5hnfLeliQ"
      },
      "execution_count": null,
      "outputs": []
    },
    {
      "cell_type": "markdown",
      "source": [
        "3.3.4 Analise e compare a complexidade do seu algoritmo baseado em grafos com uma solução que utiliza a estratégia de programação dinâmica. Na sua pesquisa bibliográfica e análise, deve usar fontes credíveis, tais como, artigos científicos, manuais técnicos ou recursos webgráficos devidamente acreditados."
      ],
      "metadata": {
        "id": "pdUTbW1qelAx"
      }
    },
    {
      "cell_type": "code",
      "source": [],
      "metadata": {
        "id": "60PMt8b5erOj"
      },
      "execution_count": null,
      "outputs": []
    },
    {
      "cell_type": "markdown",
      "source": [
        "### 3.4 Remover uma costura (steam) da imagem."
      ],
      "metadata": {
        "id": "kn19hEagerri"
      }
    },
    {
      "cell_type": "markdown",
      "source": [
        "3.4.1 Implemente e teste o método remove_vertical_steam(steam) que recebe uma coleção com a sequência de pixels da costura, steam, e remove-os da imagem atual."
      ],
      "metadata": {
        "id": "6ALnT2JBe0MB"
      }
    },
    {
      "cell_type": "code",
      "source": [],
      "metadata": {
        "id": "8xzKmjfYe2Az"
      },
      "execution_count": null,
      "outputs": []
    },
    {
      "cell_type": "markdown",
      "source": [
        "3.4.2 Apresente uma análise da complexidade desta operação em função da dimensão da imagem."
      ],
      "metadata": {
        "id": "0l2fObIDe4Tu"
      }
    },
    {
      "cell_type": "code",
      "source": [],
      "metadata": {
        "id": "89XeDn7se6Ve"
      },
      "execution_count": null,
      "outputs": []
    },
    {
      "cell_type": "markdown",
      "source": [
        "## 4. Validação"
      ],
      "metadata": {
        "id": "wFqtzEDScl1r"
      }
    },
    {
      "cell_type": "markdown",
      "source": [
        "### 4.1 Crie uma função que receba uma imagem e um fator de escala como entrada, e que devolva a imagem redimensionada utilizando a API SeamCarving. A função deve ser capaz de lidar com o redimensionamento da largura e da altura de uma imagem, consoante a escolha do utilizador."
      ],
      "metadata": {
        "id": "NUHE7GKGfA6w"
      }
    },
    {
      "cell_type": "code",
      "source": [],
      "metadata": {
        "id": "zguf7e-scxpQ"
      },
      "execution_count": null,
      "outputs": []
    },
    {
      "cell_type": "markdown",
      "source": [
        "### 4.2 Reduza a largura da imagem img-broadway_tower.jpg para 70% da sua largura original, utilizando a função implementada. O resultado deve ser apresentado no próprio notebook."
      ],
      "metadata": {
        "id": "zXqBPRN6fU4y"
      }
    },
    {
      "cell_type": "code",
      "source": [],
      "metadata": {
        "id": "QTJLvlFEfW7W"
      },
      "execution_count": null,
      "outputs": []
    },
    {
      "cell_type": "markdown",
      "source": [
        "### 4.3 Reduza a largura da imagem img-brent-cox-unsplash.jpg para 60% da sua altura original, utilizando a função implementada. O resultado deve ser apresentado no próprio notebook."
      ],
      "metadata": {
        "id": "8oltVIrxfcba"
      }
    },
    {
      "cell_type": "code",
      "source": [],
      "metadata": {
        "id": "N29KVbbSferV"
      },
      "execution_count": null,
      "outputs": []
    },
    {
      "cell_type": "markdown",
      "source": [
        "## 5. Questões Éticas"
      ],
      "metadata": {
        "id": "2Toqc1R0cx4p"
      }
    },
    {
      "cell_type": "markdown",
      "source": [
        "### a) Se colaborou com alguém fora do seu grupo, indique aqui os respetivos nomes."
      ],
      "metadata": {
        "id": "UaEJFjtrc0LO"
      }
    },
    {
      "cell_type": "markdown",
      "source": [
        "Não."
      ],
      "metadata": {
        "id": "olvQ6GPQc7Jj"
      }
    },
    {
      "cell_type": "markdown",
      "source": [
        "### b) Deve citar todas as fontes utilizadas fora do material da UC."
      ],
      "metadata": {
        "id": "ntHKLgUEc-Qy"
      }
    },
    {
      "cell_type": "markdown",
      "source": [],
      "metadata": {
        "id": "PPTvNF2ddDFD"
      }
    }
  ]
}